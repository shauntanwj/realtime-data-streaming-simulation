{
 "cells": [
  {
   "cell_type": "markdown",
   "metadata": {},
   "source": [
    "### Task 1: Processing Data Stream\n",
    "a. **Event Producer 1**: Write a python program that loads all the data from\n",
    "climate_streaming.csv and randomly (with replacement) feed the data to the\n",
    "stream every 10 seconds. You will need to append additional information such as\n",
    "producer information to identify the producer and created date. Save the file as\n",
    "**Assignment_PartB_Producer1.ipynb**."
   ]
  },
  {
   "cell_type": "code",
   "execution_count": 2,
   "metadata": {},
   "outputs": [
    {
     "name": "stdout",
     "output_type": "stream",
     "text": [
      "Pandas Version: 1.4.2\n"
     ]
    }
   ],
   "source": [
    "# import necessary library\n",
    "import pymongo\n",
    "from pymongo import MongoClient\n",
    "from time import sleep\n",
    "import json\n",
    "from kafka import KafkaProducer\n",
    "import random\n",
    "from datetime import datetime, timedelta\n",
    "import pandas as pd\n",
    "from pprint import pprint\n",
    "\n",
    "print(\"Pandas Version: \" + pd.__version__)"
   ]
  },
  {
   "cell_type": "markdown",
   "metadata": {},
   "source": [
    "Read from the *climate_streaming.csv* file using pandas library."
   ]
  },
  {
   "cell_type": "code",
   "execution_count": 3,
   "metadata": {},
   "outputs": [],
   "source": [
    "# read the climate_streaming.csv using the read_csv function in pandas library\n",
    "climate_streaming_df = pd.read_csv('climate_streaming.csv')"
   ]
  },
  {
   "cell_type": "markdown",
   "metadata": {},
   "source": [
    "This producer writes records to Kafka topic `assignment`. Each record has `key = \"climate_producer\"` and `value` is the random climate data selected from the *climate_streaming.csv* file"
   ]
  },
  {
   "cell_type": "code",
   "execution_count": 4,
   "metadata": {
    "scrolled": true
   },
   "outputs": [
    {
     "name": "stdout",
     "output_type": "stream",
     "text": [
      "Publishing records..\n",
      "Message published successfully. Data: {\"latitude\": -37.434, \"longitude\": 148.091, \"air_temperature_celcius\": 9, \"relative_humidity\": 40.0, \"windspeed_knots\": 8.6, \"max_wind_speed\": 15.0, \"precipitation\": {\"amount\": 0.0, \"flag\": \"G\"}, \"GHI_w/m2\": 84, \"date\": \"01/01/2022\", \"producer\": \"climate_producer\"}\n",
      "Message published successfully. Data: {\"latitude\": -36.2669, \"longitude\": 143.1906, \"air_temperature_celcius\": 12, \"relative_humidity\": 42.7, \"windspeed_knots\": 10.0, \"max_wind_speed\": 15.9, \"precipitation\": {\"amount\": 0.01, \"flag\": \"G\"}, \"GHI_w/m2\": 109, \"date\": \"02/01/2022\", \"producer\": \"climate_producer\"}\n",
      "Message published successfully. Data: {\"latitude\": -37.0899, \"longitude\": 141.0238, \"air_temperature_celcius\": 9, \"relative_humidity\": 42.2, \"windspeed_knots\": 6.4, \"max_wind_speed\": 9.9, \"precipitation\": {\"amount\": 0.01, \"flag\": \"G\"}, \"GHI_w/m2\": 82, \"date\": \"03/01/2022\", \"producer\": \"climate_producer\"}\n",
      "Message published successfully. Data: {\"latitude\": -37.472, \"longitude\": 148.119, \"air_temperature_celcius\": 15, \"relative_humidity\": 49.9, \"windspeed_knots\": 7.9, \"max_wind_speed\": 13.0, \"precipitation\": {\"amount\": 0.01, \"flag\": \"G\"}, \"GHI_w/m2\": 129, \"date\": \"04/01/2022\", \"producer\": \"climate_producer\"}\n",
      "Message published successfully. Data: {\"latitude\": -36.942, \"longitude\": 143.282, \"air_temperature_celcius\": 25, \"relative_humidity\": 58.3, \"windspeed_knots\": 7.1, \"max_wind_speed\": 13.0, \"precipitation\": {\"amount\": 0.0, \"flag\": \"I\"}, \"GHI_w/m2\": 199, \"date\": \"05/01/2022\", \"producer\": \"climate_producer\"}\n",
      "Message published successfully. Data: {\"latitude\": -37.954, \"longitude\": 143.918, \"air_temperature_celcius\": 20, \"relative_humidity\": 59.7, \"windspeed_knots\": 8.6, \"max_wind_speed\": 15.9, \"precipitation\": {\"amount\": 0.01, \"flag\": \"G\"}, \"GHI_w/m2\": 158, \"date\": \"06/01/2022\", \"producer\": \"climate_producer\"}\n",
      "Message published successfully. Data: {\"latitude\": -37.457, \"longitude\": 148.143, \"air_temperature_celcius\": 9, \"relative_humidity\": 39.0, \"windspeed_knots\": 5.6, \"max_wind_speed\": 8.9, \"precipitation\": {\"amount\": 0.0, \"flag\": \"G\"}, \"GHI_w/m2\": 84, \"date\": \"07/01/2022\", \"producer\": \"climate_producer\"}\n",
      "Message published successfully. Data: {\"latitude\": -37.461, \"longitude\": 148.109, \"air_temperature_celcius\": 14, \"relative_humidity\": 50.7, \"windspeed_knots\": 8.6, \"max_wind_speed\": 13.0, \"precipitation\": {\"amount\": 0.12, \"flag\": \"G\"}, \"GHI_w/m2\": 119, \"date\": \"08/01/2022\", \"producer\": \"climate_producer\"}\n",
      "Message published successfully. Data: {\"latitude\": -37.945, \"longitude\": 144.354, \"air_temperature_celcius\": 24, \"relative_humidity\": 55.6, \"windspeed_knots\": 5.9, \"max_wind_speed\": 13.0, \"precipitation\": {\"amount\": 0.0, \"flag\": \"I\"}, \"GHI_w/m2\": 196, \"date\": \"09/01/2022\", \"producer\": \"climate_producer\"}\n",
      "Message published successfully. Data: {\"latitude\": -37.0884, \"longitude\": 141.0357, \"air_temperature_celcius\": 12, \"relative_humidity\": 40.4, \"windspeed_knots\": 5.9, \"max_wind_speed\": 8.9, \"precipitation\": {\"amount\": 0.0, \"flag\": \"G\"}, \"GHI_w/m2\": 111, \"date\": \"10/01/2022\", \"producer\": \"climate_producer\"}\n",
      "Message published successfully. Data: {\"latitude\": -37.368, \"longitude\": 148.05, \"air_temperature_celcius\": 10, \"relative_humidity\": 41.4, \"windspeed_knots\": 9.4, \"max_wind_speed\": 14.0, \"precipitation\": {\"amount\": 0.0, \"flag\": \"I\"}, \"GHI_w/m2\": 92, \"date\": \"11/01/2022\", \"producer\": \"climate_producer\"}\n",
      "Message published successfully. Data: {\"latitude\": -37.401, \"longitude\": 148.067, \"air_temperature_celcius\": 13, \"relative_humidity\": 42.5, \"windspeed_knots\": 14.0, \"max_wind_speed\": 19.0, \"precipitation\": {\"amount\": 0.04, \"flag\": \"G\"}, \"GHI_w/m2\": 118, \"date\": \"12/01/2022\", \"producer\": \"climate_producer\"}\n",
      "Message published successfully. Data: {\"latitude\": -37.327, \"longitude\": 148.083, \"air_temperature_celcius\": 10, \"relative_humidity\": 44.8, \"windspeed_knots\": 8.8, \"max_wind_speed\": 14.0, \"precipitation\": {\"amount\": 0.39, \"flag\": \"G\"}, \"GHI_w/m2\": 89, \"date\": \"13/01/2022\", \"producer\": \"climate_producer\"}\n",
      "Message published successfully. Data: {\"latitude\": -35.323, \"longitude\": 143.509, \"air_temperature_celcius\": 15, \"relative_humidity\": 49.3, \"windspeed_knots\": 3.6, \"max_wind_speed\": 7.0, \"precipitation\": {\"amount\": 0.0, \"flag\": \"I\"}, \"GHI_w/m2\": 129, \"date\": \"14/01/2022\", \"producer\": \"climate_producer\"}\n",
      "Message published successfully. Data: {\"latitude\": -35.963, \"longitude\": 141.078, \"air_temperature_celcius\": 5, \"relative_humidity\": 33.1, \"windspeed_knots\": 5.8, \"max_wind_speed\": 14.0, \"precipitation\": {\"amount\": 0.0, \"flag\": \"I\"}, \"GHI_w/m2\": 49, \"date\": \"15/01/2022\", \"producer\": \"climate_producer\"}\n",
      "Message published successfully. Data: {\"latitude\": -37.6767, \"longitude\": 142.9892, \"air_temperature_celcius\": 18, \"relative_humidity\": 53.8, \"windspeed_knots\": 6.7, \"max_wind_speed\": 14.0, \"precipitation\": {\"amount\": 0.0, \"flag\": \"I\"}, \"GHI_w/m2\": 149, \"date\": \"16/01/2022\", \"producer\": \"climate_producer\"}\n",
      "Message published successfully. Data: {\"latitude\": -37.596, \"longitude\": 149.319, \"air_temperature_celcius\": 19, \"relative_humidity\": 56.1, \"windspeed_knots\": 6.9, \"max_wind_speed\": 12.0, \"precipitation\": {\"amount\": 0.0, \"flag\": \"A\"}, \"GHI_w/m2\": 155, \"date\": \"17/01/2022\", \"producer\": \"climate_producer\"}\n",
      "Message published successfully. Data: {\"latitude\": -38.498, \"longitude\": 146.95, \"air_temperature_celcius\": 5, \"relative_humidity\": 38.6, \"windspeed_knots\": 1.8, \"max_wind_speed\": 5.1, \"precipitation\": {\"amount\": 0.0, \"flag\": \"I\"}, \"GHI_w/m2\": 47, \"date\": \"18/01/2022\", \"producer\": \"climate_producer\"}\n",
      "Message published successfully. Data: {\"latitude\": -37.57, \"longitude\": 148.034, \"air_temperature_celcius\": 11, \"relative_humidity\": 40.4, \"windspeed_knots\": 19.3, \"max_wind_speed\": 26.0, \"precipitation\": {\"amount\": 0.0, \"flag\": \"G\"}, \"GHI_w/m2\": 102, \"date\": \"19/01/2022\", \"producer\": \"climate_producer\"}\n",
      "Message published successfully. Data: {\"latitude\": -36.4025, \"longitude\": 142.5598, \"air_temperature_celcius\": 21, \"relative_humidity\": 57.4, \"windspeed_knots\": 10.7, \"max_wind_speed\": 22.9, \"precipitation\": {\"amount\": 0.67, \"flag\": \"G\"}, \"GHI_w/m2\": 169, \"date\": \"20/01/2022\", \"producer\": \"climate_producer\"}\n",
      "Message published successfully. Data: {\"latitude\": -38.167, \"longitude\": 143.841, \"air_temperature_celcius\": 21, \"relative_humidity\": 58.1, \"windspeed_knots\": 5.3, \"max_wind_speed\": 11.1, \"precipitation\": {\"amount\": 0.0, \"flag\": \"G\"}, \"GHI_w/m2\": 168, \"date\": \"21/01/2022\", \"producer\": \"climate_producer\"}\n",
      "Message published successfully. Data: {\"latitude\": -36.291, \"longitude\": 146.159, \"air_temperature_celcius\": 24, \"relative_humidity\": 55.4, \"windspeed_knots\": 5.9, \"max_wind_speed\": 9.9, \"precipitation\": {\"amount\": 0.0, \"flag\": \"I\"}, \"GHI_w/m2\": 196, \"date\": \"22/01/2022\", \"producer\": \"climate_producer\"}\n",
      "Message published successfully. Data: {\"latitude\": -36.779, \"longitude\": 146.108, \"air_temperature_celcius\": 15, \"relative_humidity\": 51.0, \"windspeed_knots\": 9.6, \"max_wind_speed\": 15.9, \"precipitation\": {\"amount\": 0.16, \"flag\": \"G\"}, \"GHI_w/m2\": 128, \"date\": \"23/01/2022\", \"producer\": \"climate_producer\"}\n",
      "Message published successfully. Data: {\"latitude\": -34.5374, \"longitude\": 141.7141, \"air_temperature_celcius\": 8, \"relative_humidity\": 40.8, \"windspeed_knots\": 5.5, \"max_wind_speed\": 9.9, \"precipitation\": {\"amount\": 0.01, \"flag\": \"G\"}, \"GHI_w/m2\": 74, \"date\": \"24/01/2022\", \"producer\": \"climate_producer\"}\n",
      "Message published successfully. Data: {\"latitude\": -37.9243, \"longitude\": 144.1064, \"air_temperature_celcius\": 17, \"relative_humidity\": 53.0, \"windspeed_knots\": 14.6, \"max_wind_speed\": 22.9, \"precipitation\": {\"amount\": 0.0, \"flag\": \"I\"}, \"GHI_w/m2\": 142, \"date\": \"25/01/2022\", \"producer\": \"climate_producer\"}\n",
      "Message published successfully. Data: {\"latitude\": -34.289, \"longitude\": 141.712, \"air_temperature_celcius\": 32, \"relative_humidity\": 54.1, \"windspeed_knots\": 12.8, \"max_wind_speed\": 19.0, \"precipitation\": {\"amount\": 0.0, \"flag\": \"I\"}, \"GHI_w/m2\": 265, \"date\": \"26/01/2022\", \"producer\": \"climate_producer\"}\n",
      "Message published successfully. Data: {\"latitude\": -37.34, \"longitude\": 143.123, \"air_temperature_celcius\": 19, \"relative_humidity\": 52.8, \"windspeed_knots\": 12.5, \"max_wind_speed\": 21.0, \"precipitation\": {\"amount\": 0.47, \"flag\": \"G\"}, \"GHI_w/m2\": 159, \"date\": \"27/01/2022\", \"producer\": \"climate_producer\"}\n"
     ]
    },
    {
     "name": "stdout",
     "output_type": "stream",
     "text": [
      "Message published successfully. Data: {\"latitude\": -37.758, \"longitude\": 148.721, \"air_temperature_celcius\": 9, \"relative_humidity\": 41.2, \"windspeed_knots\": 9.8, \"max_wind_speed\": 15.9, \"precipitation\": {\"amount\": 0.0, \"flag\": \"I\"}, \"GHI_w/m2\": 83, \"date\": \"28/01/2022\", \"producer\": \"climate_producer\"}\n",
      "Message published successfully. Data: {\"latitude\": -36.0966, \"longitude\": 142.3635, \"air_temperature_celcius\": 22, \"relative_humidity\": 57.0, \"windspeed_knots\": 8.5, \"max_wind_speed\": 15.0, \"precipitation\": {\"amount\": 0.0, \"flag\": \"G\"}, \"GHI_w/m2\": 178, \"date\": \"29/01/2022\", \"producer\": \"climate_producer\"}\n",
      "Message published successfully. Data: {\"latitude\": -36.952, \"longitude\": 144.972, \"air_temperature_celcius\": 21, \"relative_humidity\": 57.3, \"windspeed_knots\": 5.4, \"max_wind_speed\": 9.9, \"precipitation\": {\"amount\": 0.0, \"flag\": \"I\"}, \"GHI_w/m2\": 169, \"date\": \"30/01/2022\", \"producer\": \"climate_producer\"}\n",
      "Message published successfully. Data: {\"latitude\": -37.719, \"longitude\": 142.154, \"air_temperature_celcius\": 13, \"relative_humidity\": 47.0, \"windspeed_knots\": 7.9, \"max_wind_speed\": 15.0, \"precipitation\": {\"amount\": 0.02, \"flag\": \"G\"}, \"GHI_w/m2\": 114, \"date\": \"31/01/2022\", \"producer\": \"climate_producer\"}\n",
      "Message published successfully. Data: {\"latitude\": -37.0046, \"longitude\": 141.8047, \"air_temperature_celcius\": 10, \"relative_humidity\": 41.4, \"windspeed_knots\": 6.9, \"max_wind_speed\": 8.9, \"precipitation\": {\"amount\": 0.0, \"flag\": \"G\"}, \"GHI_w/m2\": 92, \"date\": \"01/02/2022\", \"producer\": \"climate_producer\"}\n",
      "Message published successfully. Data: {\"latitude\": -36.3799, \"longitude\": 143.7149, \"air_temperature_celcius\": 12, \"relative_humidity\": 43.8, \"windspeed_knots\": 6.7, \"max_wind_speed\": 14.0, \"precipitation\": {\"amount\": 0.16, \"flag\": \"G\"}, \"GHI_w/m2\": 108, \"date\": \"02/02/2022\", \"producer\": \"climate_producer\"}\n",
      "Message published successfully. Data: {\"latitude\": -38.167, \"longitude\": 143.841, \"air_temperature_celcius\": 21, \"relative_humidity\": 58.1, \"windspeed_knots\": 5.3, \"max_wind_speed\": 11.1, \"precipitation\": {\"amount\": 0.0, \"flag\": \"G\"}, \"GHI_w/m2\": 168, \"date\": \"03/02/2022\", \"producer\": \"climate_producer\"}\n",
      "Message published successfully. Data: {\"latitude\": -36.2111, \"longitude\": 141.505, \"air_temperature_celcius\": 24, \"relative_humidity\": 55.5, \"windspeed_knots\": 7.9, \"max_wind_speed\": 15.0, \"precipitation\": {\"amount\": 0.0, \"flag\": \"I\"}, \"GHI_w/m2\": 196, \"date\": \"04/02/2022\", \"producer\": \"climate_producer\"}\n",
      "Message published successfully. Data: {\"latitude\": -36.294, \"longitude\": 146.149, \"air_temperature_celcius\": 20, \"relative_humidity\": 57.7, \"windspeed_knots\": 9.9, \"max_wind_speed\": 18.1, \"precipitation\": {\"amount\": 0.0, \"flag\": \"I\"}, \"GHI_w/m2\": 160, \"date\": \"05/02/2022\", \"producer\": \"climate_producer\"}\n",
      "Message published successfully. Data: {\"latitude\": -36.3328, \"longitude\": 146.0355, \"air_temperature_celcius\": 7, \"relative_humidity\": 37.2, \"windspeed_knots\": 6.2, \"max_wind_speed\": 16.9, \"precipitation\": {\"amount\": 0.08, \"flag\": \"G\"}, \"GHI_w/m2\": 66, \"date\": \"06/02/2022\", \"producer\": \"climate_producer\"}\n",
      "Message published successfully. Data: {\"latitude\": -36.538, \"longitude\": 141.129, \"air_temperature_celcius\": 12, \"relative_humidity\": 43.4, \"windspeed_knots\": 9.3, \"max_wind_speed\": 15.0, \"precipitation\": {\"amount\": 0.0, \"flag\": \"I\"}, \"GHI_w/m2\": 109, \"date\": \"07/02/2022\", \"producer\": \"climate_producer\"}\n",
      "Message published successfully. Data: {\"latitude\": -37.6, \"longitude\": 149.325, \"air_temperature_celcius\": 16, \"relative_humidity\": 48.1, \"windspeed_knots\": 9.3, \"max_wind_speed\": 12.0, \"precipitation\": {\"amount\": 0.0, \"flag\": \"G\"}, \"GHI_w/m2\": 139, \"date\": \"08/02/2022\", \"producer\": \"climate_producer\"}\n",
      "Message published successfully. Data: {\"latitude\": -36.4553, \"longitude\": 142.8786, \"air_temperature_celcius\": 19, \"relative_humidity\": 55.3, \"windspeed_knots\": 6.2, \"max_wind_speed\": 12.0, \"precipitation\": {\"amount\": 0.0, \"flag\": \"I\"}, \"GHI_w/m2\": 156, \"date\": \"09/02/2022\", \"producer\": \"climate_producer\"}\n",
      "Message published successfully. Data: {\"latitude\": -35.0889, \"longitude\": 141.2419, \"air_temperature_celcius\": 12, \"relative_humidity\": 44.4, \"windspeed_knots\": 7.8, \"max_wind_speed\": 14.0, \"precipitation\": {\"amount\": 0.0, \"flag\": \"G\"}, \"GHI_w/m2\": 108, \"date\": \"10/02/2022\", \"producer\": \"climate_producer\"}\n",
      "Message published successfully. Data: {\"latitude\": -35.892, \"longitude\": 145.62, \"air_temperature_celcius\": 10, \"relative_humidity\": 42.6, \"windspeed_knots\": 8.9, \"max_wind_speed\": 15.0, \"precipitation\": {\"amount\": 0.04, \"flag\": \"G\"}, \"GHI_w/m2\": 91, \"date\": \"11/02/2022\", \"producer\": \"climate_producer\"}\n",
      "Message published successfully. Data: {\"latitude\": -36.827, \"longitude\": 142.5446, \"air_temperature_celcius\": 8, \"relative_humidity\": 39.3, \"windspeed_knots\": 4.7, \"max_wind_speed\": 13.0, \"precipitation\": {\"amount\": 0.02, \"flag\": \"G\"}, \"GHI_w/m2\": 75, \"date\": \"12/02/2022\", \"producer\": \"climate_producer\"}\n",
      "Message published successfully. Data: {\"latitude\": -37.627, \"longitude\": 149.261, \"air_temperature_celcius\": 26, \"relative_humidity\": 53.7, \"windspeed_knots\": 8.7, \"max_wind_speed\": 15.0, \"precipitation\": {\"amount\": 0.0, \"flag\": \"I\"}, \"GHI_w/m2\": 216, \"date\": \"13/02/2022\", \"producer\": \"climate_producer\"}\n",
      "Message published successfully. Data: {\"latitude\": -37.444, \"longitude\": 148.101, \"air_temperature_celcius\": 9, \"relative_humidity\": 42.0, \"windspeed_knots\": 4.6, \"max_wind_speed\": 12.0, \"precipitation\": {\"amount\": 0.0, \"flag\": \"I\"}, \"GHI_w/m2\": 82, \"date\": \"14/02/2022\", \"producer\": \"climate_producer\"}\n",
      "Message published successfully. Data: {\"latitude\": -36.9817, \"longitude\": 143.5051, \"air_temperature_celcius\": 14, \"relative_humidity\": 44.0, \"windspeed_knots\": 14.4, \"max_wind_speed\": 23.9, \"precipitation\": {\"amount\": 0.16, \"flag\": \"G\"}, \"GHI_w/m2\": 126, \"date\": \"15/02/2022\", \"producer\": \"climate_producer\"}\n",
      "Message published successfully. Data: {\"latitude\": -37.57, \"longitude\": 148.034, \"air_temperature_celcius\": 11, \"relative_humidity\": 40.4, \"windspeed_knots\": 19.3, \"max_wind_speed\": 26.0, \"precipitation\": {\"amount\": 0.0, \"flag\": \"G\"}, \"GHI_w/m2\": 102, \"date\": \"16/02/2022\", \"producer\": \"climate_producer\"}\n",
      "Message published successfully. Data: {\"latitude\": -37.618, \"longitude\": 149.281, \"air_temperature_celcius\": 19, \"relative_humidity\": 53.8, \"windspeed_knots\": 9.2, \"max_wind_speed\": 15.0, \"precipitation\": {\"amount\": 0.02, \"flag\": \"G\"}, \"GHI_w/m2\": 158, \"date\": \"17/02/2022\", \"producer\": \"climate_producer\"}\n",
      "Message published successfully. Data: {\"latitude\": -36.3782, \"longitude\": 143.7313, \"air_temperature_celcius\": 17, \"relative_humidity\": 44.9, \"windspeed_knots\": 16.1, \"max_wind_speed\": 27.0, \"precipitation\": {\"amount\": 0.24, \"flag\": \"G\"}, \"GHI_w/m2\": 152, \"date\": \"18/02/2022\", \"producer\": \"climate_producer\"}\n",
      "Message published successfully. Data: {\"latitude\": -37.6, \"longitude\": 149.325, \"air_temperature_celcius\": 16, \"relative_humidity\": 48.1, \"windspeed_knots\": 9.3, \"max_wind_speed\": 12.0, \"precipitation\": {\"amount\": 0.0, \"flag\": \"G\"}, \"GHI_w/m2\": 139, \"date\": \"19/02/2022\", \"producer\": \"climate_producer\"}\n",
      "Message published successfully. Data: {\"latitude\": -36.942, \"longitude\": 143.282, \"air_temperature_celcius\": 25, \"relative_humidity\": 58.3, \"windspeed_knots\": 7.1, \"max_wind_speed\": 13.0, \"precipitation\": {\"amount\": 0.0, \"flag\": \"I\"}, \"GHI_w/m2\": 199, \"date\": \"20/02/2022\", \"producer\": \"climate_producer\"}\n",
      "Message published successfully. Data: {\"latitude\": -36.764, \"longitude\": 144.165, \"air_temperature_celcius\": 14, \"relative_humidity\": 52.4, \"windspeed_knots\": 6.7, \"max_wind_speed\": 11.1, \"precipitation\": {\"amount\": 0.0, \"flag\": \"I\"}, \"GHI_w/m2\": 118, \"date\": \"21/02/2022\", \"producer\": \"climate_producer\"}\n",
      "Message published successfully. Data: {\"latitude\": -37.61, \"longitude\": 149.279, \"air_temperature_celcius\": 20, \"relative_humidity\": 57.4, \"windspeed_knots\": 10.9, \"max_wind_speed\": 22.0, \"precipitation\": {\"amount\": 0.0, \"flag\": \"I\"}, \"GHI_w/m2\": 161, \"date\": \"22/02/2022\", \"producer\": \"climate_producer\"}\n",
      "Message published successfully. Data: {\"latitude\": -37.623, \"longitude\": 149.323, \"air_temperature_celcius\": 19, \"relative_humidity\": 56.8, \"windspeed_knots\": 7.9, \"max_wind_speed\": 11.1, \"precipitation\": {\"amount\": 0.0, \"flag\": \"I\"}, \"GHI_w/m2\": 154, \"date\": \"23/02/2022\", \"producer\": \"climate_producer\"}\n"
     ]
    },
    {
     "name": "stdout",
     "output_type": "stream",
     "text": [
      "Message published successfully. Data: {\"latitude\": -36.4325, \"longitude\": 144.3142, \"air_temperature_celcius\": 26, \"relative_humidity\": 61.0, \"windspeed_knots\": 9.3, \"max_wind_speed\": 15.0, \"precipitation\": {\"amount\": 0.2, \"flag\": \"G\"}, \"GHI_w/m2\": 202, \"date\": \"24/02/2022\", \"producer\": \"climate_producer\"}\n",
      "Message published successfully. Data: {\"latitude\": -37.087, \"longitude\": 145.37, \"air_temperature_celcius\": 9, \"relative_humidity\": 40.1, \"windspeed_knots\": 7.5, \"max_wind_speed\": 11.1, \"precipitation\": {\"amount\": 0.0, \"flag\": \"I\"}, \"GHI_w/m2\": 84, \"date\": \"25/02/2022\", \"producer\": \"climate_producer\"}\n",
      "Message published successfully. Data: {\"latitude\": -36.275, \"longitude\": 142.785, \"air_temperature_celcius\": 6, \"relative_humidity\": 30.8, \"windspeed_knots\": 5.7, \"max_wind_speed\": 11.1, \"precipitation\": {\"amount\": 0.0, \"flag\": \"I\"}, \"GHI_w/m2\": 60, \"date\": \"26/02/2022\", \"producer\": \"climate_producer\"}\n",
      "Message published successfully. Data: {\"latitude\": -37.453, \"longitude\": 148.111, \"air_temperature_celcius\": 11, \"relative_humidity\": 45.3, \"windspeed_knots\": 10.6, \"max_wind_speed\": 16.9, \"precipitation\": {\"amount\": 0.08, \"flag\": \"G\"}, \"GHI_w/m2\": 98, \"date\": \"27/02/2022\", \"producer\": \"climate_producer\"}\n",
      "Message published successfully. Data: {\"latitude\": -37.614, \"longitude\": 143.451, \"air_temperature_celcius\": 19, \"relative_humidity\": 60.2, \"windspeed_knots\": 6.4, \"max_wind_speed\": 12.0, \"precipitation\": {\"amount\": 0.0, \"flag\": \"I\"}, \"GHI_w/m2\": 149, \"date\": \"28/02/2022\", \"producer\": \"climate_producer\"}\n",
      "Message published successfully. Data: {\"latitude\": -37.6008, \"longitude\": 143.0558, \"air_temperature_celcius\": 15, \"relative_humidity\": 44.8, \"windspeed_knots\": 8.3, \"max_wind_speed\": 19.0, \"precipitation\": {\"amount\": 0.0, \"flag\": \"I\"}, \"GHI_w/m2\": 134, \"date\": \"01/03/2022\", \"producer\": \"climate_producer\"}\n",
      "Message published successfully. Data: {\"latitude\": -37.758, \"longitude\": 148.721, \"air_temperature_celcius\": 9, \"relative_humidity\": 41.2, \"windspeed_knots\": 9.8, \"max_wind_speed\": 15.9, \"precipitation\": {\"amount\": 0.0, \"flag\": \"I\"}, \"GHI_w/m2\": 83, \"date\": \"02/03/2022\", \"producer\": \"climate_producer\"}\n",
      "Message published successfully. Data: {\"latitude\": -37.448, \"longitude\": 148.114, \"air_temperature_celcius\": 10, \"relative_humidity\": 44.4, \"windspeed_knots\": 5.6, \"max_wind_speed\": 11.1, \"precipitation\": {\"amount\": 0.12, \"flag\": \"G\"}, \"GHI_w/m2\": 90, \"date\": \"03/03/2022\", \"producer\": \"climate_producer\"}\n",
      "Message published successfully. Data: {\"latitude\": -35.6374, \"longitude\": 142.3787, \"air_temperature_celcius\": 14, \"relative_humidity\": 41.6, \"windspeed_knots\": 13.1, \"max_wind_speed\": 18.1, \"precipitation\": {\"amount\": 0.0, \"flag\": \"I\"}, \"GHI_w/m2\": 128, \"date\": \"04/03/2022\", \"producer\": \"climate_producer\"}\n",
      "Message published successfully. Data: {\"latitude\": -36.3823, \"longitude\": 141.3146, \"air_temperature_celcius\": 10, \"relative_humidity\": 43.7, \"windspeed_knots\": 9.5, \"max_wind_speed\": 13.0, \"precipitation\": {\"amount\": 0.08, \"flag\": \"G\"}, \"GHI_w/m2\": 90, \"date\": \"05/03/2022\", \"producer\": \"climate_producer\"}\n",
      "Message published successfully. Data: {\"latitude\": -37.7052, \"longitude\": 144.6926, \"air_temperature_celcius\": 17, \"relative_humidity\": 52.7, \"windspeed_knots\": 7.7, \"max_wind_speed\": 14.0, \"precipitation\": {\"amount\": 0.0, \"flag\": \"G\"}, \"GHI_w/m2\": 142, \"date\": \"06/03/2022\", \"producer\": \"climate_producer\"}\n",
      "Message published successfully. Data: {\"latitude\": -36.8835, \"longitude\": 142.2098, \"air_temperature_celcius\": 11, \"relative_humidity\": 41.6, \"windspeed_knots\": 7.9, \"max_wind_speed\": 15.0, \"precipitation\": {\"amount\": 0.01, \"flag\": \"G\"}, \"GHI_w/m2\": 101, \"date\": \"07/03/2022\", \"producer\": \"climate_producer\"}\n",
      "Message published successfully. Data: {\"latitude\": -37.8276, \"longitude\": 142.7573, \"air_temperature_celcius\": 9, \"relative_humidity\": 42.1, \"windspeed_knots\": 7.6, \"max_wind_speed\": 12.0, \"precipitation\": {\"amount\": 0.01, \"flag\": \"G\"}, \"GHI_w/m2\": 82, \"date\": \"08/03/2022\", \"producer\": \"climate_producer\"}\n",
      "Message published successfully. Data: {\"latitude\": -36.279, \"longitude\": 141.6716, \"air_temperature_celcius\": 13, \"relative_humidity\": 42.5, \"windspeed_knots\": 8.0, \"max_wind_speed\": 15.0, \"precipitation\": {\"amount\": 0.0, \"flag\": \"I\"}, \"GHI_w/m2\": 118, \"date\": \"09/03/2022\", \"producer\": \"climate_producer\"}\n",
      "Message published successfully. Data: {\"latitude\": -36.294, \"longitude\": 146.149, \"air_temperature_celcius\": 20, \"relative_humidity\": 57.7, \"windspeed_knots\": 9.9, \"max_wind_speed\": 18.1, \"precipitation\": {\"amount\": 0.0, \"flag\": \"I\"}, \"GHI_w/m2\": 160, \"date\": \"10/03/2022\", \"producer\": \"climate_producer\"}\n",
      "Message published successfully. Data: {\"latitude\": -36.6516, \"longitude\": 141.4943, \"air_temperature_celcius\": 11, \"relative_humidity\": 45.3, \"windspeed_knots\": 8.5, \"max_wind_speed\": 15.0, \"precipitation\": {\"amount\": 0.0, \"flag\": \"G\"}, \"GHI_w/m2\": 98, \"date\": \"11/03/2022\", \"producer\": \"climate_producer\"}\n",
      "Message published successfully. Data: {\"latitude\": -37.605, \"longitude\": 149.302, \"air_temperature_celcius\": 18, \"relative_humidity\": 54.4, \"windspeed_knots\": 5.7, \"max_wind_speed\": 9.9, \"precipitation\": {\"amount\": 0.0, \"flag\": \"I\"}, \"GHI_w/m2\": 149, \"date\": \"12/03/2022\", \"producer\": \"climate_producer\"}\n",
      "Message published successfully. Data: {\"latitude\": -36.837, \"longitude\": 142.0391, \"air_temperature_celcius\": 19, \"relative_humidity\": 55.8, \"windspeed_knots\": 6.0, \"max_wind_speed\": 11.1, \"precipitation\": {\"amount\": 0.0, \"flag\": \"I\"}, \"GHI_w/m2\": 155, \"date\": \"13/03/2022\", \"producer\": \"climate_producer\"}\n",
      "Message published successfully. Data: {\"latitude\": -36.4422, \"longitude\": 141.427, \"air_temperature_celcius\": 15, \"relative_humidity\": 48.1, \"windspeed_knots\": 7.9, \"max_wind_speed\": 12.0, \"precipitation\": {\"amount\": 0.0, \"flag\": \"G\"}, \"GHI_w/m2\": 131, \"date\": \"14/03/2022\", \"producer\": \"climate_producer\"}\n",
      "Message published successfully. Data: {\"latitude\": -37.453, \"longitude\": 148.111, \"air_temperature_celcius\": 11, \"relative_humidity\": 45.3, \"windspeed_knots\": 10.6, \"max_wind_speed\": 16.9, \"precipitation\": {\"amount\": 0.08, \"flag\": \"G\"}, \"GHI_w/m2\": 98, \"date\": \"15/03/2022\", \"producer\": \"climate_producer\"}\n",
      "Message published successfully. Data: {\"latitude\": -36.096, \"longitude\": 146.5016, \"air_temperature_celcius\": 12, \"relative_humidity\": 41.0, \"windspeed_knots\": 12.9, \"max_wind_speed\": 16.9, \"precipitation\": {\"amount\": 0.16, \"flag\": \"G\"}, \"GHI_w/m2\": 111, \"date\": \"16/03/2022\", \"producer\": \"climate_producer\"}\n",
      "Message published successfully. Data: {\"latitude\": -35.323, \"longitude\": 143.509, \"air_temperature_celcius\": 15, \"relative_humidity\": 49.3, \"windspeed_knots\": 3.6, \"max_wind_speed\": 7.0, \"precipitation\": {\"amount\": 0.0, \"flag\": \"I\"}, \"GHI_w/m2\": 129, \"date\": \"17/03/2022\", \"producer\": \"climate_producer\"}\n",
      "Message published successfully. Data: {\"latitude\": -36.3328, \"longitude\": 146.0355, \"air_temperature_celcius\": 7, \"relative_humidity\": 37.2, \"windspeed_knots\": 6.2, \"max_wind_speed\": 16.9, \"precipitation\": {\"amount\": 0.08, \"flag\": \"G\"}, \"GHI_w/m2\": 66, \"date\": \"18/03/2022\", \"producer\": \"climate_producer\"}\n",
      "Message published successfully. Data: {\"latitude\": -37.478, \"longitude\": 148.117, \"air_temperature_celcius\": 11, \"relative_humidity\": 43.9, \"windspeed_knots\": 11.2, \"max_wind_speed\": 16.9, \"precipitation\": {\"amount\": 0.12, \"flag\": \"G\"}, \"GHI_w/m2\": 99, \"date\": \"19/03/2022\", \"producer\": \"climate_producer\"}\n",
      "Message published successfully. Data: {\"latitude\": -37.249, \"longitude\": 143.413, \"air_temperature_celcius\": 14, \"relative_humidity\": 47.9, \"windspeed_knots\": 5.3, \"max_wind_speed\": 9.9, \"precipitation\": {\"amount\": 0.0, \"flag\": \"I\"}, \"GHI_w/m2\": 122, \"date\": \"20/03/2022\", \"producer\": \"climate_producer\"}\n",
      "Message published successfully. Data: {\"latitude\": -37.367, \"longitude\": 148.04, \"air_temperature_celcius\": 12, \"relative_humidity\": 47.6, \"windspeed_knots\": 9.1, \"max_wind_speed\": 13.0, \"precipitation\": {\"amount\": 0.12, \"flag\": \"G\"}, \"GHI_w/m2\": 105, \"date\": \"21/03/2022\", \"producer\": \"climate_producer\"}\n",
      "Message published successfully. Data: {\"latitude\": -36.285, \"longitude\": 146.151, \"air_temperature_celcius\": 19, \"relative_humidity\": 56.3, \"windspeed_knots\": 5.8, \"max_wind_speed\": 8.9, \"precipitation\": {\"amount\": 0.0, \"flag\": \"I\"}, \"GHI_w/m2\": 154, \"date\": \"22/03/2022\", \"producer\": \"climate_producer\"}\n"
     ]
    },
    {
     "name": "stdout",
     "output_type": "stream",
     "text": [
      "Message published successfully. Data: {\"latitude\": -36.277, \"longitude\": 146.165, \"air_temperature_celcius\": 20, \"relative_humidity\": 57.0, \"windspeed_knots\": 8.7, \"max_wind_speed\": 13.0, \"precipitation\": {\"amount\": 0.0, \"flag\": \"I\"}, \"GHI_w/m2\": 161, \"date\": \"23/03/2022\", \"producer\": \"climate_producer\"}\n",
      "Message published successfully. Data: {\"latitude\": -37.406, \"longitude\": 148.123, \"air_temperature_celcius\": 12, \"relative_humidity\": 44.7, \"windspeed_knots\": 11.4, \"max_wind_speed\": 18.1, \"precipitation\": {\"amount\": 0.0, \"flag\": \"G\"}, \"GHI_w/m2\": 107, \"date\": \"24/03/2022\", \"producer\": \"climate_producer\"}\n",
      "Message published successfully. Data: {\"latitude\": -37.296, \"longitude\": 144.386, \"air_temperature_celcius\": 11, \"relative_humidity\": 40.8, \"windspeed_knots\": 12.2, \"max_wind_speed\": 20.0, \"precipitation\": {\"amount\": 0.24, \"flag\": \"G\"}, \"GHI_w/m2\": 102, \"date\": \"25/03/2022\", \"producer\": \"climate_producer\"}\n",
      "Message published successfully. Data: {\"latitude\": -37.087, \"longitude\": 145.363, \"air_temperature_celcius\": 13, \"relative_humidity\": 49.4, \"windspeed_knots\": 3.8, \"max_wind_speed\": 9.9, \"precipitation\": {\"amount\": 0.01, \"flag\": \"G\"}, \"GHI_w/m2\": 112, \"date\": \"26/03/2022\", \"producer\": \"climate_producer\"}\n",
      "Message published successfully. Data: {\"latitude\": -37.396, \"longitude\": 148.086, \"air_temperature_celcius\": 15, \"relative_humidity\": 41.6, \"windspeed_knots\": 15.0, \"max_wind_speed\": 28.0, \"precipitation\": {\"amount\": 0.0, \"flag\": \"I\"}, \"GHI_w/m2\": 138, \"date\": \"27/03/2022\", \"producer\": \"climate_producer\"}\n",
      "Message published successfully. Data: {\"latitude\": -36.827, \"longitude\": 142.5446, \"air_temperature_celcius\": 8, \"relative_humidity\": 39.3, \"windspeed_knots\": 4.7, \"max_wind_speed\": 13.0, \"precipitation\": {\"amount\": 0.02, \"flag\": \"G\"}, \"GHI_w/m2\": 75, \"date\": \"28/03/2022\", \"producer\": \"climate_producer\"}\n",
      "Message published successfully. Data: {\"latitude\": -35.953, \"longitude\": 141.078, \"air_temperature_celcius\": 12, \"relative_humidity\": 47.2, \"windspeed_knots\": 8.8, \"max_wind_speed\": 15.0, \"precipitation\": {\"amount\": 0.0, \"flag\": \"G\"}, \"GHI_w/m2\": 105, \"date\": \"29/03/2022\", \"producer\": \"climate_producer\"}\n",
      "Message published successfully. Data: {\"latitude\": -37.758, \"longitude\": 144.693, \"air_temperature_celcius\": 20, \"relative_humidity\": 58.8, \"windspeed_knots\": 11.5, \"max_wind_speed\": 15.9, \"precipitation\": {\"amount\": 0.0, \"flag\": \"I\"}, \"GHI_w/m2\": 159, \"date\": \"30/03/2022\", \"producer\": \"climate_producer\"}\n",
      "Message published successfully. Data: {\"latitude\": -37.0745, \"longitude\": 141.0692, \"air_temperature_celcius\": 9, \"relative_humidity\": 40.4, \"windspeed_knots\": 6.9, \"max_wind_speed\": 9.9, \"precipitation\": {\"amount\": 0.02, \"flag\": \"G\"}, \"GHI_w/m2\": 83, \"date\": \"31/03/2022\", \"producer\": \"climate_producer\"}\n",
      "Message published successfully. Data: {\"latitude\": -37.0667, \"longitude\": 143.0582, \"air_temperature_celcius\": 11, \"relative_humidity\": 39.7, \"windspeed_knots\": 11.8, \"max_wind_speed\": 19.0, \"precipitation\": {\"amount\": 0.28, \"flag\": \"G\"}, \"GHI_w/m2\": 102, \"date\": \"01/04/2022\", \"producer\": \"climate_producer\"}\n",
      "Message published successfully. Data: {\"latitude\": -37.391, \"longitude\": 148.066, \"air_temperature_celcius\": 14, \"relative_humidity\": 44.6, \"windspeed_knots\": 7.7, \"max_wind_speed\": 15.9, \"precipitation\": {\"amount\": 0.03, \"flag\": \"G\"}, \"GHI_w/m2\": 125, \"date\": \"02/04/2022\", \"producer\": \"climate_producer\"}\n",
      "Message published successfully. Data: {\"latitude\": -34.289, \"longitude\": 141.712, \"air_temperature_celcius\": 32, \"relative_humidity\": 54.1, \"windspeed_knots\": 12.8, \"max_wind_speed\": 19.0, \"precipitation\": {\"amount\": 0.0, \"flag\": \"I\"}, \"GHI_w/m2\": 265, \"date\": \"03/04/2022\", \"producer\": \"climate_producer\"}\n",
      "Message published successfully. Data: {\"latitude\": -36.3782, \"longitude\": 143.7313, \"air_temperature_celcius\": 17, \"relative_humidity\": 44.9, \"windspeed_knots\": 16.1, \"max_wind_speed\": 27.0, \"precipitation\": {\"amount\": 0.24, \"flag\": \"G\"}, \"GHI_w/m2\": 152, \"date\": \"04/04/2022\", \"producer\": \"climate_producer\"}\n",
      "Message published successfully. Data: {\"latitude\": -37.583, \"longitude\": 149.316, \"air_temperature_celcius\": 25, \"relative_humidity\": 58.3, \"windspeed_knots\": 12.2, \"max_wind_speed\": 22.0, \"precipitation\": {\"amount\": 0.04, \"flag\": \"G\"}, \"GHI_w/m2\": 199, \"date\": \"05/04/2022\", \"producer\": \"climate_producer\"}\n",
      "Message published successfully. Data: {\"latitude\": -36.346, \"longitude\": 143.631, \"air_temperature_celcius\": 17, \"relative_humidity\": 47.2, \"windspeed_knots\": 4.9, \"max_wind_speed\": 13.0, \"precipitation\": {\"amount\": 0.0, \"flag\": \"I\"}, \"GHI_w/m2\": 149, \"date\": \"06/04/2022\", \"producer\": \"climate_producer\"}\n",
      "Message published successfully. Data: {\"latitude\": -37.719, \"longitude\": 142.154, \"air_temperature_celcius\": 13, \"relative_humidity\": 47.0, \"windspeed_knots\": 7.9, \"max_wind_speed\": 15.0, \"precipitation\": {\"amount\": 0.02, \"flag\": \"G\"}, \"GHI_w/m2\": 114, \"date\": \"07/04/2022\", \"producer\": \"climate_producer\"}\n",
      "Message published successfully. Data: {\"latitude\": -36.098, \"longitude\": 143.735, \"air_temperature_celcius\": 17, \"relative_humidity\": 58.1, \"windspeed_knots\": 11.7, \"max_wind_speed\": 19.0, \"precipitation\": {\"amount\": 0.04, \"flag\": \"G\"}, \"GHI_w/m2\": 136, \"date\": \"08/04/2022\", \"producer\": \"climate_producer\"}\n"
     ]
    },
    {
     "ename": "KeyboardInterrupt",
     "evalue": "",
     "output_type": "error",
     "traceback": [
      "\u001b[0;31m---------------------------------------------------------------------------\u001b[0m",
      "\u001b[0;31mKeyboardInterrupt\u001b[0m                         Traceback (most recent call last)",
      "\u001b[0;32m<ipython-input-4-18d30106c1a9>\u001b[0m in \u001b[0;36m<module>\u001b[0;34m\u001b[0m\n\u001b[1;32m     58\u001b[0m            }\n\u001b[1;32m     59\u001b[0m         \u001b[0mpublish_message\u001b[0m\u001b[0;34m(\u001b[0m\u001b[0mproducer\u001b[0m\u001b[0;34m,\u001b[0m \u001b[0mtopic\u001b[0m\u001b[0;34m,\u001b[0m \u001b[0;34m'climate_producer'\u001b[0m\u001b[0;34m,\u001b[0m \u001b[0mjson\u001b[0m\u001b[0;34m.\u001b[0m\u001b[0mdumps\u001b[0m\u001b[0;34m(\u001b[0m\u001b[0mclimate_data\u001b[0m\u001b[0;34m)\u001b[0m\u001b[0;34m)\u001b[0m\u001b[0;34m\u001b[0m\u001b[0;34m\u001b[0m\u001b[0m\n\u001b[0;32m---> 60\u001b[0;31m         \u001b[0msleep\u001b[0m\u001b[0;34m(\u001b[0m\u001b[0;36m10\u001b[0m\u001b[0;34m)\u001b[0m \u001b[0;31m# sleep for 10 seconds\u001b[0m\u001b[0;34m\u001b[0m\u001b[0;34m\u001b[0m\u001b[0m\n\u001b[0m",
      "\u001b[0;31mKeyboardInterrupt\u001b[0m: "
     ]
    }
   ],
   "source": [
    "def publish_message(producer_instance, topic_name, key, value):\n",
    "    try:\n",
    "        key_bytes = bytes(key, encoding='utf-8') # encode the key to bytes\n",
    "        value_bytes = bytes(value, encoding='utf-8') # encode the value to bytes\n",
    "        producer_instance.send(topic_name, key=key_bytes, value=value_bytes) # send the key and value to the topic\n",
    "        producer_instance.flush()\n",
    "        print('Message published successfully. Data: ' + value)\n",
    "    except Exception as ex:\n",
    "        print('Exception in publishing message.')\n",
    "        print(str(ex))\n",
    "\n",
    "def connect_kafka_producer():\n",
    "    _producer = None\n",
    "    try:\n",
    "        _producer = KafkaProducer(bootstrap_servers=['localhost:9092'],\n",
    "                                  api_version=(0, 10))\n",
    "    except Exception as ex:\n",
    "        print('Exception while connecting Kafka.')\n",
    "        print(str(ex))\n",
    "    finally:\n",
    "        return _producer\n",
    "    \n",
    "if __name__ == '__main__':\n",
    "    \n",
    "    topic = 'assignment'\n",
    "    \n",
    "    print('Publishing records..')\n",
    "    producer = connect_kafka_producer() # create a Kafka producer\n",
    "    \n",
    "    # Read from the MongoDB database to get the latest climate data date\n",
    "    client = MongoClient()\n",
    "    climate_historic_data = client.assignment_db.climate_historic\n",
    "    latest_date = list(climate_historic_data.find({},{\"_id\":0, \"date\":1}).sort(\"date\",-1).limit(1))[0]['date']\n",
    "    n = len(climate_streaming_df)\n",
    "    \n",
    "    while True:\n",
    "        \n",
    "        # for every iteration add one day to the previous latest date\n",
    "        latest_date += timedelta(days=1)\n",
    "        \n",
    "        # randomly select a climate streaming data\n",
    "        rand_climate_data = climate_streaming_df.iloc[[random.randrange(0,n-1)]] \n",
    "        precipitation_data = list(rand_climate_data[\"precipitation \"])[0].replace(\" \", \"\")\n",
    "        \n",
    "        # create a new JSON object with all the random climate data in the correct datatype\n",
    "        # a random number from 0 till the total number of data in the climate data dataframe will be obtained\n",
    "        climate_data = {\n",
    "            \"latitude\": float(rand_climate_data[\"latitude\"]), \n",
    "            \"longitude\": float(rand_climate_data[\"longitude\"]), \n",
    "            \"air_temperature_celcius\": int(rand_climate_data[\"air_temperature_celcius\"]),\n",
    "            \"relative_humidity\": float(rand_climate_data[\"relative_humidity\"]),\n",
    "            \"windspeed_knots\": float(rand_climate_data[\"windspeed_knots\"]),\n",
    "            \"max_wind_speed\": float(rand_climate_data[\"max_wind_speed\"]),\n",
    "            \"precipitation\": {\"amount\": float(precipitation_data[-len(precipitation_data):-1]), \"flag\": precipitation_data[-1]},\n",
    "            \"GHI_w/m2\": int(rand_climate_data[\"GHI_w/m2\"]),\n",
    "            \"date\": latest_date.strftime(\"%d/%m/%Y\"),\n",
    "            \"producer\": \"climate_producer\"\n",
    "           }\n",
    "        publish_message(producer, topic, 'climate_producer', json.dumps(climate_data))\n",
    "        sleep(10) # sleep for 10 seconds"
   ]
  },
  {
   "cell_type": "markdown",
   "metadata": {},
   "source": [
    "#### Reference\n",
    "- Date increment refer from https://www.adamsmith.haus/python/answers/how-to-increment-a-datetime-object-by-one-day-in-python\n",
    "- Encodoing and decoding json refer from </br>https://www.geeksforgeeks.org/encoding-and-decoding-custom-objects-in-python-json/#:~:text=Python%20provides%20a%20built%2Din,and%20start%20using%20its%20functionality.&text=For%20encoding%2C%20we%20use%20json,%2C%20we'll%20use%20json."
   ]
  }
 ],
 "metadata": {
  "kernelspec": {
   "display_name": "Python 3",
   "language": "python",
   "name": "python3"
  },
  "language_info": {
   "codemirror_mode": {
    "name": "ipython",
    "version": 3
   },
   "file_extension": ".py",
   "mimetype": "text/x-python",
   "name": "python",
   "nbconvert_exporter": "python",
   "pygments_lexer": "ipython3",
   "version": "3.8.10"
  }
 },
 "nbformat": 4,
 "nbformat_minor": 4
}
